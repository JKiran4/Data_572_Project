{
 "cells": [
  {
   "cell_type": "markdown",
   "id": "e5d39b5c-abd3-4096-8bde-82d6167ce533",
   "metadata": {},
   "source": [
    "## EDA"
   ]
  },
  {
   "cell_type": "code",
   "execution_count": 1,
   "id": "9af5214e-a8c1-4274-914e-214e46247f3c",
   "metadata": {},
   "outputs": [],
   "source": [
    "import numpy as np\n",
    "import pandas as pd\n",
    "from sklearn.preprocessing import LabelEncoder, StandardScaler\n",
    "from sklearn.model_selection import train_test_split\n",
    "from sklearn.metrics import accuracy_score\n",
    "import matplotlib.pyplot as plt\n",
    "from sklearn.model_selection import KFold, cross_val_score\n",
    "from sklearn.neighbors import KNeighborsClassifier\n",
    "from sklearn.metrics import classification_report\n",
    "from sklearn.metrics import confusion_matrix, ConfusionMatrixDisplay"
   ]
  },
  {
   "cell_type": "code",
   "execution_count": 2,
   "id": "14196e90-4d28-4502-ba5c-cec4c3998b9b",
   "metadata": {},
   "outputs": [],
   "source": [
    "milkdata = pd.read_csv(\"milknew.csv\")"
   ]
  },
  {
   "cell_type": "code",
   "execution_count": 3,
   "id": "c0d1bafc-4cf5-41cd-a18c-7db0d28b7c9b",
   "metadata": {},
   "outputs": [
    {
     "data": {
      "text/html": [
       "<div>\n",
       "<style scoped>\n",
       "    .dataframe tbody tr th:only-of-type {\n",
       "        vertical-align: middle;\n",
       "    }\n",
       "\n",
       "    .dataframe tbody tr th {\n",
       "        vertical-align: top;\n",
       "    }\n",
       "\n",
       "    .dataframe thead th {\n",
       "        text-align: right;\n",
       "    }\n",
       "</style>\n",
       "<table border=\"1\" class=\"dataframe\">\n",
       "  <thead>\n",
       "    <tr style=\"text-align: right;\">\n",
       "      <th></th>\n",
       "      <th>pH</th>\n",
       "      <th>Temprature</th>\n",
       "      <th>Taste</th>\n",
       "      <th>Odor</th>\n",
       "      <th>Fat</th>\n",
       "      <th>Turbidity</th>\n",
       "      <th>Colour</th>\n",
       "      <th>Grade</th>\n",
       "    </tr>\n",
       "  </thead>\n",
       "  <tbody>\n",
       "    <tr>\n",
       "      <th>0</th>\n",
       "      <td>6.6</td>\n",
       "      <td>35</td>\n",
       "      <td>1</td>\n",
       "      <td>0</td>\n",
       "      <td>1</td>\n",
       "      <td>0</td>\n",
       "      <td>254</td>\n",
       "      <td>high</td>\n",
       "    </tr>\n",
       "    <tr>\n",
       "      <th>1</th>\n",
       "      <td>6.6</td>\n",
       "      <td>36</td>\n",
       "      <td>0</td>\n",
       "      <td>1</td>\n",
       "      <td>0</td>\n",
       "      <td>1</td>\n",
       "      <td>253</td>\n",
       "      <td>high</td>\n",
       "    </tr>\n",
       "    <tr>\n",
       "      <th>2</th>\n",
       "      <td>8.5</td>\n",
       "      <td>70</td>\n",
       "      <td>1</td>\n",
       "      <td>1</td>\n",
       "      <td>1</td>\n",
       "      <td>1</td>\n",
       "      <td>246</td>\n",
       "      <td>low</td>\n",
       "    </tr>\n",
       "    <tr>\n",
       "      <th>3</th>\n",
       "      <td>9.5</td>\n",
       "      <td>34</td>\n",
       "      <td>1</td>\n",
       "      <td>1</td>\n",
       "      <td>0</td>\n",
       "      <td>1</td>\n",
       "      <td>255</td>\n",
       "      <td>low</td>\n",
       "    </tr>\n",
       "    <tr>\n",
       "      <th>4</th>\n",
       "      <td>6.6</td>\n",
       "      <td>37</td>\n",
       "      <td>0</td>\n",
       "      <td>0</td>\n",
       "      <td>0</td>\n",
       "      <td>0</td>\n",
       "      <td>255</td>\n",
       "      <td>medium</td>\n",
       "    </tr>\n",
       "  </tbody>\n",
       "</table>\n",
       "</div>"
      ],
      "text/plain": [
       "    pH  Temprature  Taste  Odor  Fat   Turbidity  Colour   Grade\n",
       "0  6.6          35      1     0     1          0     254    high\n",
       "1  6.6          36      0     1     0          1     253    high\n",
       "2  8.5          70      1     1     1          1     246     low\n",
       "3  9.5          34      1     1     0          1     255     low\n",
       "4  6.6          37      0     0     0          0     255  medium"
      ]
     },
     "execution_count": 3,
     "metadata": {},
     "output_type": "execute_result"
    }
   ],
   "source": [
    "milkdata.head()"
   ]
  },
  {
   "cell_type": "code",
   "execution_count": 4,
   "id": "9e372d6d-8364-41d0-adc4-3200899c9135",
   "metadata": {},
   "outputs": [],
   "source": [
    "milkdata['Grade'] = milkdata['Grade'].map({'low': 0, 'medium': 1, 'high': 2})"
   ]
  },
  {
   "cell_type": "code",
   "execution_count": 5,
   "id": "4b45e2f0-5212-4aca-a3c3-f34158a97357",
   "metadata": {},
   "outputs": [
    {
     "data": {
      "text/html": [
       "<div>\n",
       "<style scoped>\n",
       "    .dataframe tbody tr th:only-of-type {\n",
       "        vertical-align: middle;\n",
       "    }\n",
       "\n",
       "    .dataframe tbody tr th {\n",
       "        vertical-align: top;\n",
       "    }\n",
       "\n",
       "    .dataframe thead th {\n",
       "        text-align: right;\n",
       "    }\n",
       "</style>\n",
       "<table border=\"1\" class=\"dataframe\">\n",
       "  <thead>\n",
       "    <tr style=\"text-align: right;\">\n",
       "      <th></th>\n",
       "      <th>pH</th>\n",
       "      <th>Temprature</th>\n",
       "      <th>Taste</th>\n",
       "      <th>Odor</th>\n",
       "      <th>Fat</th>\n",
       "      <th>Turbidity</th>\n",
       "      <th>Colour</th>\n",
       "      <th>Grade</th>\n",
       "    </tr>\n",
       "  </thead>\n",
       "  <tbody>\n",
       "    <tr>\n",
       "      <th>0</th>\n",
       "      <td>6.6</td>\n",
       "      <td>35</td>\n",
       "      <td>1</td>\n",
       "      <td>0</td>\n",
       "      <td>1</td>\n",
       "      <td>0</td>\n",
       "      <td>254</td>\n",
       "      <td>2</td>\n",
       "    </tr>\n",
       "    <tr>\n",
       "      <th>1</th>\n",
       "      <td>6.6</td>\n",
       "      <td>36</td>\n",
       "      <td>0</td>\n",
       "      <td>1</td>\n",
       "      <td>0</td>\n",
       "      <td>1</td>\n",
       "      <td>253</td>\n",
       "      <td>2</td>\n",
       "    </tr>\n",
       "    <tr>\n",
       "      <th>2</th>\n",
       "      <td>8.5</td>\n",
       "      <td>70</td>\n",
       "      <td>1</td>\n",
       "      <td>1</td>\n",
       "      <td>1</td>\n",
       "      <td>1</td>\n",
       "      <td>246</td>\n",
       "      <td>0</td>\n",
       "    </tr>\n",
       "    <tr>\n",
       "      <th>3</th>\n",
       "      <td>9.5</td>\n",
       "      <td>34</td>\n",
       "      <td>1</td>\n",
       "      <td>1</td>\n",
       "      <td>0</td>\n",
       "      <td>1</td>\n",
       "      <td>255</td>\n",
       "      <td>0</td>\n",
       "    </tr>\n",
       "    <tr>\n",
       "      <th>4</th>\n",
       "      <td>6.6</td>\n",
       "      <td>37</td>\n",
       "      <td>0</td>\n",
       "      <td>0</td>\n",
       "      <td>0</td>\n",
       "      <td>0</td>\n",
       "      <td>255</td>\n",
       "      <td>1</td>\n",
       "    </tr>\n",
       "  </tbody>\n",
       "</table>\n",
       "</div>"
      ],
      "text/plain": [
       "    pH  Temprature  Taste  Odor  Fat   Turbidity  Colour  Grade\n",
       "0  6.6          35      1     0     1          0     254      2\n",
       "1  6.6          36      0     1     0          1     253      2\n",
       "2  8.5          70      1     1     1          1     246      0\n",
       "3  9.5          34      1     1     0          1     255      0\n",
       "4  6.6          37      0     0     0          0     255      1"
      ]
     },
     "execution_count": 5,
     "metadata": {},
     "output_type": "execute_result"
    }
   ],
   "source": [
    "milkdata.head()"
   ]
  },
  {
   "cell_type": "code",
   "execution_count": 6,
   "id": "7701e592-69b2-4157-a512-e5f919484ffa",
   "metadata": {},
   "outputs": [],
   "source": [
    "X = milkdata.drop(columns=['Grade'])\n",
    "y = milkdata['Grade']"
   ]
  },
  {
   "cell_type": "code",
   "execution_count": 7,
   "id": "83eb9879-6d74-437f-aea0-b343e53cf14c",
   "metadata": {},
   "outputs": [],
   "source": [
    "# Standardization\n",
    "scaler = StandardScaler()\n",
    "X_scaled = scaler.fit_transform(X)"
   ]
  },
  {
   "cell_type": "code",
   "execution_count": 8,
   "id": "5972a03e-77f3-437d-b539-542ac0e1217f",
   "metadata": {},
   "outputs": [],
   "source": [
    "# Split the data into training and testing sets\n",
    "X_train, X_test, y_train, y_test = train_test_split(X_scaled, y, test_size=0.3, random_state=572)\n",
    "y_train = np.array(y_train)"
   ]
  },
  {
   "cell_type": "code",
   "execution_count": 9,
   "id": "05c1b3c0-0e23-4f2a-98ae-ec8f8ff76a90",
   "metadata": {},
   "outputs": [
    {
     "name": "stdout",
     "output_type": "stream",
     "text": [
      "pH            1059\n",
      "Temprature    1059\n",
      "Taste         1059\n",
      "Odor          1059\n",
      "Fat           1059\n",
      "Turbidity     1059\n",
      "Colour        1059\n",
      "Grade         1059\n",
      "dtype: int64\n"
     ]
    }
   ],
   "source": [
    "print(milkdata.count())"
   ]
  },
  {
   "cell_type": "code",
   "execution_count": 10,
   "id": "27240165-c132-44a4-ba59-b3e7b96b821d",
   "metadata": {},
   "outputs": [
    {
     "name": "stdout",
     "output_type": "stream",
     "text": [
      "976\n"
     ]
    }
   ],
   "source": [
    "print(milkdata.duplicated().sum())  # Count duplicate rows"
   ]
  },
  {
   "cell_type": "code",
   "execution_count": 11,
   "id": "91ba31eb-21ba-4d6c-8bc1-6d4e7f523283",
   "metadata": {},
   "outputs": [],
   "source": [
    "milkdata_nodup = milkdata.drop_duplicates()\n",
    "X_nodup = milkdata_nodup.drop(columns=['Grade'])\n",
    "y_nodup = milkdata_nodup['Grade']\n",
    "\n",
    "# Standardization\n",
    "scaler = StandardScaler()\n",
    "X_scaled_nodup = scaler.fit_transform(X_nodup)\n",
    "\n",
    "# Split the data into training and testing sets\n",
    "X_train_nodup, X_test_nodup, y_train_nodup, y_test_nodup = train_test_split(X_scaled_nodup, y_nodup, test_size=0.3, random_state=572)\n",
    "y_train_nodup = np.array(y_train_nodup)"
   ]
  },
  {
   "cell_type": "markdown",
   "id": "332598a1-5c78-45ca-8356-6d01e3ce547b",
   "metadata": {},
   "source": [
    "## Logistic Regression"
   ]
  },
  {
   "cell_type": "code",
   "execution_count": 12,
   "id": "93347005-6884-4ac7-befd-ade8475c414f",
   "metadata": {},
   "outputs": [
    {
     "data": {
      "text/plain": [
       "{'Cross-Validation Scores': array([0.85849057, 0.84433962, 0.85377358, 0.84433962, 0.85308057]),\n",
       " 'Mean Accuracy': 0.850804792989359,\n",
       " 'Standard Deviation': 0.005597514506006755}"
      ]
     },
     "execution_count": 12,
     "metadata": {},
     "output_type": "execute_result"
    }
   ],
   "source": [
    "from sklearn.linear_model import LogisticRegression\n",
    "\n",
    "log_reg_model = LogisticRegression()\n",
    "log_reg_model.fit(X_train, y_train)\n",
    "\n",
    "predictions = log_reg_model.predict(X_test)\n",
    "\n",
    "#accuracy = accuracy_score(y_test, predictions)\n",
    "\n",
    "kf = KFold(n_splits=5, shuffle=True, random_state=572)\n",
    "cv_scores = cross_val_score(log_reg_model, X_scaled, y, cv=kf, scoring='accuracy')\n",
    "\n",
    "cv_results = {\n",
    "    \"Cross-Validation Scores\": cv_scores,\n",
    "    \"Mean Accuracy\": np.mean(cv_scores),\n",
    "    \"Standard Deviation\": np.std(cv_scores)\n",
    "}\n",
    "\n",
    "cv_results"
   ]
  },
  {
   "cell_type": "code",
   "execution_count": 13,
   "id": "6c0a438f-b162-414c-9f8c-be8f4e33c786",
   "metadata": {},
   "outputs": [
    {
     "name": "stdout",
     "output_type": "stream",
     "text": [
      "              precision    recall  f1-score   support\n",
      "\n",
      "           0       0.89      0.89      0.89       131\n",
      "           1       0.94      0.83      0.88       106\n",
      "           2       0.76      0.88      0.81        81\n",
      "\n",
      "    accuracy                           0.86       318\n",
      "   macro avg       0.86      0.86      0.86       318\n",
      "weighted avg       0.87      0.86      0.87       318\n",
      "\n"
     ]
    },
    {
     "data": {
      "image/png": "[encoded data removed]",
      "text/plain": [
       "<Figure size 640x480 with 2 Axes>"
      ]
     },
     "metadata": {},
     "output_type": "display_data"
    }
   ],
   "source": [
    "classes = ['0', '1', '2']\n",
    "cm = confusion_matrix(y_test, predictions)\n",
    "disp = ConfusionMatrixDisplay(confusion_matrix=cm, display_labels=classes)\n",
    "disp.plot(cmap='Blues')\n",
    "\n",
    "report = classification_report(y_test, predictions, target_names=['0', '1', '2'])\n",
    "\n",
    "print(report)"
   ]
  },
  {
   "cell_type": "code",
   "execution_count": 14,
   "id": "99a591f5-38cd-4544-b196-267690bc0cdb",
   "metadata": {},
   "outputs": [
    {
     "data": {
      "text/plain": [
       "{'Cross-Validation Scores': array([0.64705882, 0.47058824, 0.88235294, 0.875     , 0.75      ]),\n",
       " 'Mean Accuracy': 0.725,\n",
       " 'Standard Deviation': 0.15406824533775051}"
      ]
     },
     "execution_count": 14,
     "metadata": {},
     "output_type": "execute_result"
    }
   ],
   "source": [
    "log_reg_model_nodup = LogisticRegression()\n",
    "log_reg_model_nodup.fit(X_train_nodup, y_train_nodup)\n",
    "\n",
    "predictions = log_reg_model.predict(X_test_nodup)\n",
    "\n",
    "kf = KFold(n_splits=5, shuffle=True, random_state=572)\n",
    "cv_scores = cross_val_score(log_reg_model_nodup, X_scaled_nodup, y_nodup, cv=kf, scoring='accuracy')\n",
    "\n",
    "cv_results = {\n",
    "    \"Cross-Validation Scores\": cv_scores,\n",
    "    \"Mean Accuracy\": np.mean(cv_scores),\n",
    "    \"Standard Deviation\": np.std(cv_scores)\n",
    "}\n",
    "\n",
    "cv_results"
   ]
  },
  {
   "cell_type": "markdown",
   "id": "f675ab47-a575-4cbd-93fd-961c25f27fec",
   "metadata": {},
   "source": [
    "## Decision Tree"
   ]
  },
  {
   "cell_type": "code",
   "execution_count": 15,
   "id": "899e38b5-e26f-4703-8874-1852117f5734",
   "metadata": {},
   "outputs": [
    {
     "data": {
      "text/plain": [
       "{'Cross-Validation Scores': array([0.99528302, 1.        , 0.99056604, 0.99056604, 0.98578199]),\n",
       " 'Mean Accuracy': 0.99243941697219,\n",
       " 'Standard Deviation': 0.004828849012690098}"
      ]
     },
     "execution_count": 15,
     "metadata": {},
     "output_type": "execute_result"
    }
   ],
   "source": [
    "from sklearn.tree import DecisionTreeClassifier\n",
    "\n",
    "decision_tree_model = DecisionTreeClassifier(random_state=572)\n",
    "decision_tree_model.fit(X_train, y_train)\n",
    "dt_predictions = decision_tree_model.predict(X_test)\n",
    "#dt_accuracy = accuracy_score(y_test, dt_predictions)\n",
    "\n",
    "kf = KFold(n_splits=5, shuffle=True, random_state=572)\n",
    "cv_scores = cross_val_score(decision_tree_model, X_scaled, y, cv=kf, scoring='accuracy')\n",
    "\n",
    "cv_results = {\n",
    "    \"Cross-Validation Scores\": cv_scores,\n",
    "    \"Mean Accuracy\": np.mean(cv_scores),\n",
    "    \"Standard Deviation\": np.std(cv_scores)\n",
    "}\n",
    "\n",
    "cv_results"
   ]
  },
  {
   "cell_type": "code",
   "execution_count": 16,
   "id": "a0c61604-7241-408a-b412-a638e3cf92d1",
   "metadata": {},
   "outputs": [
    {
     "name": "stdout",
     "output_type": "stream",
     "text": [
      "              precision    recall  f1-score   support\n",
      "\n",
      "           0       0.99      0.98      0.99       131\n",
      "           1       1.00      1.00      1.00       106\n",
      "           2       0.98      0.99      0.98        81\n",
      "\n",
      "    accuracy                           0.99       318\n",
      "   macro avg       0.99      0.99      0.99       318\n",
      "weighted avg       0.99      0.99      0.99       318\n",
      "\n"
     ]
    },
    {
     "data": {
      "image/png": "[encoded data removed]",
      "text/plain": [
       "<Figure size 640x480 with 2 Axes>"
      ]
     },
     "metadata": {},
     "output_type": "display_data"
    }
   ],
   "source": [
    "classes = ['0', '1', '2']\n",
    "cm = confusion_matrix(y_test, dt_predictions)\n",
    "disp = ConfusionMatrixDisplay(confusion_matrix=cm, display_labels=classes)\n",
    "disp.plot(cmap='Blues')\n",
    "\n",
    "report = classification_report(y_test, dt_predictions, target_names=['0', '1', '2'])\n",
    "\n",
    "print(report)"
   ]
  },
  {
   "cell_type": "code",
   "execution_count": 17,
   "id": "9175523b-d2be-43a9-8ed7-69d47224ad81",
   "metadata": {},
   "outputs": [
    {
     "data": {
      "text/plain": [
       "{'Cross-Validation Scores': array([0.82352941, 0.76470588, 0.88235294, 0.75      , 0.8125    ]),\n",
       " 'Mean Accuracy': 0.8066176470588236,\n",
       " 'Standard Deviation': 0.0469437932338599}"
      ]
     },
     "execution_count": 17,
     "metadata": {},
     "output_type": "execute_result"
    }
   ],
   "source": [
    "decision_tree_model_nodup = DecisionTreeClassifier(random_state=572)\n",
    "decision_tree_model_nodup.fit(X_train_nodup, y_train_nodup)\n",
    "dt_predictions_nodup = decision_tree_model_nodup.predict(X_test_nodup)\n",
    "#dt_accuracy = accuracy_score(y_test, dt_predictions)\n",
    "\n",
    "kf = KFold(n_splits=5, shuffle=True, random_state=572)\n",
    "cv_scores = cross_val_score(decision_tree_model_nodup, X_scaled_nodup, y_nodup, cv=kf, scoring='accuracy')\n",
    "\n",
    "cv_results = {\n",
    "    \"Cross-Validation Scores\": cv_scores,\n",
    "    \"Mean Accuracy\": np.mean(cv_scores),\n",
    "    \"Standard Deviation\": np.std(cv_scores)\n",
    "}\n",
    "\n",
    "cv_results"
   ]
  },
  {
   "cell_type": "markdown",
   "id": "dcb87b3f-74bb-4551-88e6-6590a53621b5",
   "metadata": {},
   "source": [
    "## KNN - SK LEARN"
   ]
  },
  {
   "cell_type": "code",
   "execution_count": 18,
   "id": "31981c3f-300e-4fe0-b6d6-eda0e01a2bf8",
   "metadata": {},
   "outputs": [
    {
     "data": {
      "text/plain": [
       "{'Cross-Validation Scores': array([0.99528302, 0.99528302, 0.99528302, 0.99056604, 1.        ]),\n",
       " 'Mean Accuracy': 0.9952830188679244,\n",
       " 'Standard Deviation': 0.0029832808114796023}"
      ]
     },
     "execution_count": 18,
     "metadata": {},
     "output_type": "execute_result"
    }
   ],
   "source": [
    "knn_model = KNeighborsClassifier(n_neighbors=3)\n",
    "knn_model.fit(X_train, y_train)\n",
    "\n",
    "knn_predictions = knn_model.predict(X_test)\n",
    "\n",
    "knn_accuracy = accuracy_score(y_test, knn_predictions)\n",
    "knn_accuracy\n",
    "\n",
    "kf = KFold(n_splits=5, shuffle=True, random_state=572)\n",
    "cv_scores = cross_val_score(knn_model, X_scaled, y, cv=kf, scoring='accuracy')\n",
    "\n",
    "cv_results = {\n",
    "    \"Cross-Validation Scores\": cv_scores,\n",
    "    \"Mean Accuracy\": np.mean(cv_scores),\n",
    "    \"Standard Deviation\": np.std(cv_scores)\n",
    "}\n",
    "\n",
    "cv_results"
   ]
  },
  {
   "cell_type": "code",
   "execution_count": 19,
   "id": "b7075842-a9c2-47f8-8dcf-f3f8c187514d",
   "metadata": {},
   "outputs": [
    {
     "name": "stdout",
     "output_type": "stream",
     "text": [
      "              precision    recall  f1-score   support\n",
      "\n",
      "           0       1.00      0.98      0.99       131\n",
      "           1       1.00      1.00      1.00       106\n",
      "           2       0.98      1.00      0.99        81\n",
      "\n",
      "    accuracy                           0.99       318\n",
      "   macro avg       0.99      0.99      0.99       318\n",
      "weighted avg       0.99      0.99      0.99       318\n",
      "\n"
     ]
    },
    {
     "data": {
      "image/png": "[encoded data removed]",
      "text/plain": [
       "<Figure size 640x480 with 2 Axes>"
      ]
     },
     "metadata": {},
     "output_type": "display_data"
    }
   ],
   "source": [
    "classes = ['0', '1', '2']\n",
    "cm = confusion_matrix(y_test, knn_predictions)\n",
    "disp = ConfusionMatrixDisplay(confusion_matrix=cm, display_labels=classes)\n",
    "disp.plot(cmap='Blues')\n",
    "\n",
    "report = classification_report(y_test, knn_predictions, target_names=['0', '1', '2'])\n",
    "\n",
    "print(report)"
   ]
  },
  {
   "cell_type": "code",
   "execution_count": 20,
   "id": "5295ddae-8bc6-4238-9c7c-67d3ad552317",
   "metadata": {},
   "outputs": [
    {
     "data": {
      "image/png": "[encoded data removed]",
      "text/plain": [
       "<Figure size 1000x500 with 1 Axes>"
      ]
     },
     "metadata": {},
     "output_type": "display_data"
    },
    {
     "data": {
      "text/plain": [
       "[0.9962264150943396,\n",
       " 0.9962264150943396,\n",
       " 0.9952830188679244,\n",
       " 0.9952830188679244,\n",
       " 0.9933872842707681,\n",
       " 0.9933872842707681,\n",
       " 0.991500491817938,\n",
       " 0.9867700974693732,\n",
       " 0.9801663238844676,\n",
       " 0.9782795314316373,\n",
       " 0.9669587767146561,\n",
       " 0.9575114012340158,\n",
       " 0.9518465528033623,\n",
       " 0.949959760350532,\n",
       " 0.9395734597156398,\n",
       " 0.9310650093892516,\n",
       " 0.9291782169364214,\n",
       " 0.9282348207100062,\n",
       " 0.9282348207100062,\n",
       " 0.9263480282571761]"
      ]
     },
     "execution_count": 20,
     "metadata": {},
     "output_type": "execute_result"
    }
   ],
   "source": [
    "k_values = list(range(1, 21))\n",
    "accuracies_sk = []\n",
    "\n",
    "for k in k_values:\n",
    "    knn = KNeighborsClassifier(k)\n",
    "    scores = cross_val_score(knn, X_scaled, y, cv=kf, scoring='accuracy')\n",
    "    accuracies_sk.append(np.mean(scores))\n",
    "\n",
    "plt.figure(figsize=(10, 5))\n",
    "plt.plot(k_values, accuracies_sk, marker='o')\n",
    "plt.ylim(0.9, 1)\n",
    "plt.xticks(range(0, 21, 1))\n",
    "plt.xlabel(\"Number of Neighbors (k)\")\n",
    "plt.ylabel(\"Accuracy\")\n",
    "plt.title(\"KNN: K vs Accuracy\")\n",
    "plt.grid(True)\n",
    "plt.show()\n",
    "\n",
    "accuracies_sk"
   ]
  },
  {
   "cell_type": "markdown",
   "id": "42337d2c-37f9-44fb-a5d0-af15561ae635",
   "metadata": {},
   "source": [
    "## KNN Without Duplicates"
   ]
  },
  {
   "cell_type": "code",
   "execution_count": 21,
   "id": "9e3c0c7b-a43f-47b5-9ec6-42ec38bf9987",
   "metadata": {},
   "outputs": [
    {
     "data": {
      "text/plain": [
       "{'Cross-Validation Scores': array([0.58823529, 0.70588235, 0.94117647, 0.8125    , 0.6875    ]),\n",
       " 'Mean Accuracy': 0.7470588235294118,\n",
       " 'Standard Deviation': 0.12035935955515029}"
      ]
     },
     "execution_count": 21,
     "metadata": {},
     "output_type": "execute_result"
    }
   ],
   "source": [
    "kf = KFold(n_splits=5, shuffle=True, random_state=572)\n",
    "\n",
    "knn = KNeighborsClassifier(n_neighbors=3)\n",
    "cv_scores = cross_val_score(knn, X_scaled_nodup, y_nodup, cv=kf, scoring='accuracy')\n",
    "\n",
    "cv_results = {\n",
    "    \"Cross-Validation Scores\": cv_scores,\n",
    "    \"Mean Accuracy\": np.mean(cv_scores),\n",
    "    \"Standard Deviation\": np.std(cv_scores)\n",
    "}\n",
    "\n",
    "cv_results"
   ]
  },
  {
   "cell_type": "code",
   "execution_count": 23,
   "id": "5be02d63-dc23-4a01-a69a-0931d8a250ae",
   "metadata": {},
   "outputs": [
    {
     "data": {
      "image/png": "[encoded data removed]",
      "text/plain": [
       "<Figure size 1000x500 with 1 Axes>"
      ]
     },
     "metadata": {},
     "output_type": "display_data"
    },
    {
     "data": {
      "text/plain": [
       "(3, 0.7470588235294118)"
      ]
     },
     "execution_count": 23,
     "metadata": {},
     "output_type": "execute_result"
    }
   ],
   "source": [
    "k_values = range(1, 21)\n",
    "accuracy_scores = []\n",
    "\n",
    "for k in k_values:\n",
    "    knn = KNeighborsClassifier(n_neighbors=k)\n",
    "    scores = cross_val_score(knn, X_scaled_nodup, y_nodup, cv=kf, scoring='accuracy')\n",
    "    accuracy_scores.append(np.mean(scores))\n",
    "\n",
    "    knn = KNeighborsClassifier(k)\n",
    "    knn.fit(X_train_nodup, y_train)\n",
    "    preds = knn.predict(X_test)\n",
    "    acc = accuracy_score(y_test, preds)\n",
    "    accuracies_sk.append(acc)\n",
    "\n",
    "plt.figure(figsize=(10, 5))\n",
    "plt.plot(k_values, accuracy_scores, marker='o')\n",
    "plt.ylim(0.5, 0.8)\n",
    "plt.xticks(range(0, 21, 1))\n",
    "plt.xlabel(\"Number of Neighbors (k)\")\n",
    "plt.ylabel(\"Accuracy\")\n",
    "plt.title(\"KNN - No Duplicate: k vs Accuracy\")\n",
    "plt.grid(True)\n",
    "plt.show()\n",
    "\n",
    "optimal_k = k_values[np.argmax(accuracy_scores)]\n",
    "optimal_k, max(accuracy_scores)"
   ]
  }
 ],
 "metadata": {
  "kernelspec": {
   "display_name": "Python 3 (ipykernel)",
   "language": "python",
   "name": "python3"
  },
  "language_info": {
   "codemirror_mode": {
    "name": "ipython",
    "version": 3
   },
   "file_extension": ".py",
   "mimetype": "text/x-python",
   "name": "python",
   "nbconvert_exporter": "python",
   "pygments_lexer": "ipython3",
   "version": "3.12.2"
  }
 },
 "nbformat": 4,
 "nbformat_minor": 5
}
